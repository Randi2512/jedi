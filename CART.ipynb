{
  "nbformat": 4,
  "nbformat_minor": 0,
  "metadata": {
    "colab": {
      "name": "Untitled1.ipynb",
      "provenance": [],
      "collapsed_sections": [],
      "authorship_tag": "ABX9TyNrDRwiH4QtNc4Q99IkmOgZ",
      "include_colab_link": true
    },
    "kernelspec": {
      "name": "python3",
      "display_name": "Python 3"
    },
    "language_info": {
      "name": "python"
    }
  },
  "cells": [
    {
      "cell_type": "markdown",
      "metadata": {
        "id": "view-in-github",
        "colab_type": "text"
      },
      "source": [
        "<a href=\"https://colab.research.google.com/github/Randi2512/jedi/blob/master/CART.ipynb\" target=\"_parent\"><img src=\"https://colab.research.google.com/assets/colab-badge.svg\" alt=\"Open In Colab\"/></a>"
      ]
    },
    {
      "cell_type": "code",
      "execution_count": 2,
      "metadata": {
        "id": "LSR6tYRwnrKL"
      },
      "outputs": [],
      "source": [
        "import numpy as np\n",
        "from sklearn.tree import DecisionTreeClassifier\n",
        "from sklearn import datasets"
      ]
    },
    {
      "cell_type": "code",
      "source": [
        "iris=datasets.load_iris()"
      ],
      "metadata": {
        "id": "Kx10AzF_n_kS"
      },
      "execution_count": 3,
      "outputs": []
    },
    {
      "cell_type": "code",
      "source": [
        "print(iris.target_names)\n",
        "print(iris.feature_names)\n"
      ],
      "metadata": {
        "colab": {
          "base_uri": "https://localhost:8080/"
        },
        "id": "_ghOHWHYoJKX",
        "outputId": "697329e4-5192-4a20-c1bc-d7f33961e318"
      },
      "execution_count": 5,
      "outputs": [
        {
          "output_type": "stream",
          "name": "stdout",
          "text": [
            "['setosa' 'versicolor' 'virginica']\n",
            "['sepal length (cm)', 'sepal width (cm)', 'petal length (cm)', 'petal width (cm)']\n"
          ]
        }
      ]
    },
    {
      "cell_type": "code",
      "source": [
        "data=iris.data\n",
        "data.shape\n",
        "#0-49 : setosa\n",
        "#50-99 : versocolor\n",
        "#100-149 : virginica"
      ],
      "metadata": {
        "colab": {
          "base_uri": "https://localhost:8080/"
        },
        "id": "HL7VJlbho4Sl",
        "outputId": "172fc053-6f6a-42b1-99c9-a3a7e219c8d3"
      },
      "execution_count": 7,
      "outputs": [
        {
          "output_type": "execute_result",
          "data": {
            "text/plain": [
              "(150, 4)"
            ]
          },
          "metadata": {},
          "execution_count": 7
        }
      ]
    },
    {
      "cell_type": "code",
      "source": [
        "fitur1=data[0:2,0]\n",
        "fitur2=data[50:52,0]\n",
        "fitur3=data[100:102,0]\n",
        "fitur=np.concatenate((fitur1,fitur2,fitur3))\n",
        "print(fitur)\n",
        "target=np.array([0,0,1,1,2,2])\n",
        "fitur=np.reshape(fitur,(-1,1))\n",
        "print(fitur)"
      ],
      "metadata": {
        "colab": {
          "base_uri": "https://localhost:8080/"
        },
        "id": "w3JnX3C8pV-J",
        "outputId": "2d71b8db-22d9-40fc-e8e0-aae8bf84355c"
      },
      "execution_count": 13,
      "outputs": [
        {
          "output_type": "stream",
          "name": "stdout",
          "text": [
            "[5.1 4.9 7.  6.4 6.3 5.8]\n",
            "[[5.1]\n",
            " [4.9]\n",
            " [7. ]\n",
            " [6.4]\n",
            " [6.3]\n",
            " [5.8]]\n"
          ]
        }
      ]
    },
    {
      "cell_type": "markdown",
      "source": [
        "TRAINING"
      ],
      "metadata": {
        "id": "9ta-GvCSrQ8x"
      }
    },
    {
      "cell_type": "code",
      "source": [
        "treeClf=DecisionTreeClassifier(max_depth=2)\n"
      ],
      "metadata": {
        "id": "9qZR1CTYrXIK"
      },
      "execution_count": 14,
      "outputs": []
    },
    {
      "cell_type": "code",
      "source": [
        "treeClf.fit(fitur, target)"
      ],
      "metadata": {
        "colab": {
          "base_uri": "https://localhost:8080/"
        },
        "id": "B7SVzbn7rlH4",
        "outputId": "732f74d0-193a-44dc-cfc5-cd3a0edffddc"
      },
      "execution_count": 17,
      "outputs": [
        {
          "output_type": "execute_result",
          "data": {
            "text/plain": [
              "DecisionTreeClassifier(max_depth=2)"
            ]
          },
          "metadata": {},
          "execution_count": 17
        }
      ]
    },
    {
      "cell_type": "markdown",
      "source": [
        "**TESTING**"
      ],
      "metadata": {
        "id": "tbYn5Xc4sGol"
      }
    },
    {
      "cell_type": "code",
      "source": [
        "print(treeClf.predict(fitur))"
      ],
      "metadata": {
        "colab": {
          "base_uri": "https://localhost:8080/"
        },
        "id": "O_wknK40sK3E",
        "outputId": "faab6b6a-4136-4c27-f98c-59b37d42f0c8"
      },
      "execution_count": 26,
      "outputs": [
        {
          "output_type": "stream",
          "name": "stdout",
          "text": [
            "[0 0 1 1 2 2]\n"
          ]
        }
      ]
    },
    {
      "cell_type": "markdown",
      "source": [
        "VISUAL **TREE** "
      ],
      "metadata": {
        "id": "HSMZF3LLtHeD"
      }
    },
    {
      "cell_type": "code",
      "source": [
        "from sklearn.tree import export_graphviz\n"
      ],
      "metadata": {
        "id": "uM69q8v3tMhj"
      },
      "execution_count": 27,
      "outputs": []
    },
    {
      "cell_type": "code",
      "source": [
        "export_graphviz(treeClf, out_file='iris.dot', feature_names=iris.feature_names[0:1], class_names=iris.target_names)"
      ],
      "metadata": {
        "id": "kL_uLsuCtlWY"
      },
      "execution_count": 30,
      "outputs": []
    }
  ]
}